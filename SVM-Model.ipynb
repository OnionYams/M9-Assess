{
 "cells": [
  {
   "cell_type": "code",
   "execution_count": 1,
   "metadata": {},
   "outputs": [
    {
     "data": {
      "text/html": [
       "<div>\n",
       "<style scoped>\n",
       "    .dataframe tbody tr th:only-of-type {\n",
       "        vertical-align: middle;\n",
       "    }\n",
       "\n",
       "    .dataframe tbody tr th {\n",
       "        vertical-align: top;\n",
       "    }\n",
       "\n",
       "    .dataframe thead th {\n",
       "        text-align: right;\n",
       "    }\n",
       "</style>\n",
       "<table border=\"1\" class=\"dataframe\">\n",
       "  <thead>\n",
       "    <tr style=\"text-align: right;\">\n",
       "      <th></th>\n",
       "      <th>Pregnancies</th>\n",
       "      <th>Glucose</th>\n",
       "      <th>BloodPressure</th>\n",
       "      <th>SkinThickness</th>\n",
       "      <th>Insulin</th>\n",
       "      <th>BMI</th>\n",
       "      <th>DiabetesPedigreeFunction</th>\n",
       "      <th>Age</th>\n",
       "      <th>Outcome</th>\n",
       "    </tr>\n",
       "  </thead>\n",
       "  <tbody>\n",
       "    <tr>\n",
       "      <th>0</th>\n",
       "      <td>6</td>\n",
       "      <td>148</td>\n",
       "      <td>72</td>\n",
       "      <td>35</td>\n",
       "      <td>0</td>\n",
       "      <td>33.6</td>\n",
       "      <td>0.627</td>\n",
       "      <td>50</td>\n",
       "      <td>1</td>\n",
       "    </tr>\n",
       "    <tr>\n",
       "      <th>1</th>\n",
       "      <td>1</td>\n",
       "      <td>85</td>\n",
       "      <td>66</td>\n",
       "      <td>29</td>\n",
       "      <td>0</td>\n",
       "      <td>26.6</td>\n",
       "      <td>0.351</td>\n",
       "      <td>31</td>\n",
       "      <td>0</td>\n",
       "    </tr>\n",
       "    <tr>\n",
       "      <th>2</th>\n",
       "      <td>8</td>\n",
       "      <td>183</td>\n",
       "      <td>64</td>\n",
       "      <td>0</td>\n",
       "      <td>0</td>\n",
       "      <td>23.3</td>\n",
       "      <td>0.672</td>\n",
       "      <td>32</td>\n",
       "      <td>1</td>\n",
       "    </tr>\n",
       "    <tr>\n",
       "      <th>3</th>\n",
       "      <td>1</td>\n",
       "      <td>89</td>\n",
       "      <td>66</td>\n",
       "      <td>23</td>\n",
       "      <td>94</td>\n",
       "      <td>28.1</td>\n",
       "      <td>0.167</td>\n",
       "      <td>21</td>\n",
       "      <td>0</td>\n",
       "    </tr>\n",
       "    <tr>\n",
       "      <th>4</th>\n",
       "      <td>0</td>\n",
       "      <td>137</td>\n",
       "      <td>40</td>\n",
       "      <td>35</td>\n",
       "      <td>168</td>\n",
       "      <td>43.1</td>\n",
       "      <td>2.288</td>\n",
       "      <td>33</td>\n",
       "      <td>1</td>\n",
       "    </tr>\n",
       "  </tbody>\n",
       "</table>\n",
       "</div>"
      ],
      "text/plain": [
       "   Pregnancies  Glucose  BloodPressure  SkinThickness  Insulin   BMI  \\\n",
       "0            6      148             72             35        0  33.6   \n",
       "1            1       85             66             29        0  26.6   \n",
       "2            8      183             64              0        0  23.3   \n",
       "3            1       89             66             23       94  28.1   \n",
       "4            0      137             40             35      168  43.1   \n",
       "\n",
       "   DiabetesPedigreeFunction  Age  Outcome  \n",
       "0                     0.627   50        1  \n",
       "1                     0.351   31        0  \n",
       "2                     0.672   32        1  \n",
       "3                     0.167   21        0  \n",
       "4                     2.288   33        1  "
      ]
     },
     "execution_count": 1,
     "metadata": {},
     "output_type": "execute_result"
    }
   ],
   "source": [
    "from sklearn.preprocessing import StandardScaler\n",
    "from sklearn.model_selection import train_test_split, GridSearchCV\n",
    "from sklearn import svm\n",
    "from sklearn.metrics import confusion_matrix, accuracy_score\n",
    "import pandas as pd\n",
    "import numpy as np\n",
    "import matplotlib.pyplot as plt\n",
    "import seaborn as sns\n",
    "\n",
    "\n",
    "# Read data from diabetes.csv to pandas dataframe\n",
    "df = pd.read_csv('diabetes.csv')\n",
    "df.head()\n",
    "\n",
    "# We want to make a model that predicts whether or not the people in this dataset have Diabetes (1) or not (0) based on the diagnostic\n",
    "# columns and compare it to the actual result"
   ]
  },
  {
   "cell_type": "code",
   "execution_count": 2,
   "metadata": {},
   "outputs": [
    {
     "data": {
      "text/plain": [
       "(768, 9)"
      ]
     },
     "execution_count": 2,
     "metadata": {},
     "output_type": "execute_result"
    }
   ],
   "source": [
    "# Preliminary info on dataset\n",
    "df.shape"
   ]
  },
  {
   "cell_type": "code",
   "execution_count": 3,
   "metadata": {},
   "outputs": [],
   "source": [
    "# Standardize Independent Varibles (Improves Accuracy and Speeds up Convergence)\n",
    "my_columns = list(df.columns).remove('Outcome')\n",
    "scaler = StandardScaler()\n",
    "indep_variables = scaler.fit_transform(df.drop('Outcome',axis=1))\n",
    "\n",
    "# Convert independent variable numpy array back to pandas dataframe\n",
    "indep_variables = pd.DataFrame(indep_variables, columns = my_columns)\n",
    "\n",
    "# Split dataset into training and testing sets\n",
    "X, y = indep_variables, df['Outcome']\n",
    "X_train, X_test, y_train, y_test = train_test_split(X, y, train_size = 0.75, random_state = 0)"
   ]
  },
  {
   "cell_type": "code",
   "execution_count": 4,
   "metadata": {},
   "outputs": [
    {
     "name": "stdout",
     "output_type": "stream",
     "text": [
      "The Best Parameters from the Grid Search: {'C': 1000, 'gamma': 0.0001}\n"
     ]
    }
   ],
   "source": [
    "# Defining Parameter Grid Dictionary for Hyper Parameter Tuning\n",
    "param_grid = {'C': [ 1, 10, 100, 1000,10000],  # These are just placeholder values \n",
    "              'gamma': [1,0.1,0.01,0.001,0.0001]  # for demonstration purposes\n",
    "              } \n",
    "  \n",
    "\n",
    "# Create a SVM Classifier for the Grid Search\n",
    "SVM_model = svm.SVC(random_state=0) \n",
    "\n",
    "\n",
    "# GridSearchCV searches over parameter grid and takes the best values (known as refitting)\n",
    "grid = GridSearchCV(SVM_model, param_grid)\n",
    "grid_search = grid.fit(X_train, y_train)\n",
    "\n",
    "\n",
    "# Get the best parameters from the Grid Search\n",
    "C_value = grid_search.best_params_['C']\n",
    "Gamma = grid_search.best_params_['gamma']\n",
    "\n",
    "# Use the best values from the Grid Search as parameters for your SVM Model \n",
    "# Fit SVM Model with your Data\n",
    "SVM_model = svm.SVC(C = C_value, gamma = Gamma, random_state = 0).fit(X_train, y_train)\n",
    "\n",
    "# Use SVM_model to Create Predictions\n",
    "y_prediction = SVM_model.predict(X_test)\n",
    "\n",
    "# Create Confusion Matrix Comparing the Predictions to Actual Results\n",
    "cm = confusion_matrix(y_test, y_prediction)\n",
    "\n",
    "\n",
    "# Print Best Parameters from Grid Search\n",
    "print(f'The Best Parameters from the Grid Search: {grid.best_params_}')"
   ]
  },
  {
   "cell_type": "code",
   "execution_count": 5,
   "metadata": {},
   "outputs": [
    {
     "name": "stdout",
     "output_type": "stream",
     "text": [
      "Model Accuracy for our Training Dataset with Tuning: 80.73%\n"
     ]
    },
    {
     "data": {
      "image/png": "[encoded data removed]",
      "text/plain": [
       "<Figure size 432x288 with 2 Axes>"
      ]
     },
     "metadata": {
      "needs_background": "light"
     },
     "output_type": "display_data"
    }
   ],
   "source": [
    "# Create labels for the Confusion Matrix\n",
    "group_names = ['True Negative','False Positive','False Negative','True Positive']\n",
    "group_counts = ['{0:0.0f}'.format(value) for value in\n",
    "                cm.flatten()]\n",
    "group_percentages = ['{0:.2%}'.format(value) for value in\n",
    "                     cm.flatten()/np.sum(cm)]\n",
    "labels = [f'{v1}\\n{v2}\\n{v3}' for v1, v2, v3 in\n",
    "          zip(group_names,group_counts,group_percentages)]\n",
    "labels = np.asarray(labels).reshape(2,2)\n",
    "\n",
    "\n",
    "# Plot the Confusion Matrix\n",
    "ax = plt.gca()\n",
    "sns.heatmap(cm, annot=labels, fmt='', ax=ax, cmap = plt.cm.Blues,annot_kws={\"fontsize\":15});  # fmt = '' is necessary because fmt = 'g' (scientific notation format) is default\n",
    "ax.set_xlabel('Predicted labels', fontsize = 15);\n",
    "ax.set_ylabel('True labels', fontsize = 15); \n",
    "ax.set_title('SVM Model Confusion Matrix', pad = 20, fontsize=20);\n",
    "\n",
    "# Print Accuracy Score\n",
    "print(\"Model Accuracy for our Training Dataset with Tuning: {:.2f}%\".format(accuracy_score(y_test, y_prediction) * 100))"
   ]
  }
 ],
 "metadata": {
  "interpreter": {
   "hash": "f610223a794a5e00f0ba9c0cf804e6f0adda2cb0aeba7176f1b0ab3674a0abbb"
  },
  "kernelspec": {
   "display_name": "Python 3.9.7 ('base')",
   "language": "python",
   "name": "python3"
  },
  "language_info": {
   "codemirror_mode": {
    "name": "ipython",
    "version": 3
   },
   "file_extension": ".py",
   "mimetype": "text/x-python",
   "name": "python",
   "nbconvert_exporter": "python",
   "pygments_lexer": "ipython3",
   "version": "3.9.7"
  },
  "orig_nbformat": 4
 },
 "nbformat": 4,
 "nbformat_minor": 2
}
